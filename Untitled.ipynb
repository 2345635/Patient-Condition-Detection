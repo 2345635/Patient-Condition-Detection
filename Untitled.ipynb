{
 "cells": [
  {
   "cell_type": "code",
   "execution_count": 1,
   "id": "5e3f5583",
   "metadata": {},
   "outputs": [
    {
     "ename": "ModuleNotFoundError",
     "evalue": "No module named 'pywebio'",
     "output_type": "error",
     "traceback": [
      "\u001b[1;31m---------------------------------------------------------------------------\u001b[0m",
      "\u001b[1;31mModuleNotFoundError\u001b[0m                       Traceback (most recent call last)",
      "Cell \u001b[1;32mIn[1], line 5\u001b[0m\n\u001b[0;32m      3\u001b[0m \u001b[38;5;28;01mfrom\u001b[39;00m \u001b[38;5;21;01mgensim\u001b[39;00m\u001b[38;5;21;01m.\u001b[39;00m\u001b[38;5;21;01mmodels\u001b[39;00m \u001b[38;5;28;01mimport\u001b[39;00m Word2Vec\n\u001b[0;32m      4\u001b[0m \u001b[38;5;28;01mfrom\u001b[39;00m \u001b[38;5;21;01msklearn\u001b[39;00m\u001b[38;5;21;01m.\u001b[39;00m\u001b[38;5;21;01mneural_network\u001b[39;00m \u001b[38;5;28;01mimport\u001b[39;00m MLPClassifier\n\u001b[1;32m----> 5\u001b[0m \u001b[38;5;28;01mfrom\u001b[39;00m \u001b[38;5;21;01mpywebio\u001b[39;00m \u001b[38;5;28;01mimport\u001b[39;00m start_server\n\u001b[0;32m      6\u001b[0m \u001b[38;5;28;01mfrom\u001b[39;00m \u001b[38;5;21;01mpywebio\u001b[39;00m\u001b[38;5;21;01m.\u001b[39;00m\u001b[38;5;21;01minput\u001b[39;00m \u001b[38;5;28;01mimport\u001b[39;00m \u001b[38;5;28minput\u001b[39m, TEXT\n\u001b[0;32m      7\u001b[0m \u001b[38;5;28;01mfrom\u001b[39;00m \u001b[38;5;21;01mpywebio\u001b[39;00m\u001b[38;5;21;01m.\u001b[39;00m\u001b[38;5;21;01moutput\u001b[39;00m \u001b[38;5;28;01mimport\u001b[39;00m put_text\n",
      "\u001b[1;31mModuleNotFoundError\u001b[0m: No module named 'pywebio'"
     ]
    }
   ],
   "source": [
    "import pandas as pd\n",
    "import nltk\n",
    "from gensim.models import Word2Vec\n",
    "from sklearn.neural_network import MLPClassifier\n",
    "from pywebio import start_server\n",
    "from pywebio.input import input, TEXT\n",
    "from pywebio.output import put_text\n",
    "\n",
    "# Load the data\n",
    "df = pd.read_excel('data.xlsx', engine='openpyxl')\n",
    "\n",
    "# Tokenize the text\n",
    "df['TOKENIZED_EXAMINATIONS'] = df['EXAMNINATIONS'].apply(nltk.word_tokenize)\n",
    "\n",
    "# Download stopwords\n",
    "nltk.download('stopwords')\n",
    "\n",
    "# Remove stopwords\n",
    "stopwords = nltk.corpus.stopwords.words('english')\n",
    "df['STOPWORDS_REMOVED_EXAMINATIONS'] = df['TOKENIZED_EXAMINATIONS'].apply(lambda tokens: [token for token in tokens if token.lower() not in stopwords])\n",
    "\n",
    "word2vec_model = Word2Vec(df['STOPWORDS_REMOVED_EXAMINATIONS'], min_count=1, vector_size=100)\n",
    "\n",
    "\n",
    "# Prepare the target variable\n",
    "target = df['DIAGNOSIS']\n",
    "\n",
    "# Define the prediction function\n",
    "def predict_diagnosis():\n",
    "    patient = input(\"Enter the Patient Name:\", type=TEXT)\n",
    "    text = input(\"Enter the examinations:\", type=TEXT)\n",
    "    text_preprocessed = preprocess_text(text)\n",
    "    features = vectorize_text(text_preprocessed)\n",
    "    prediction = model.predict([features])[0]\n",
    "    put_text(f\"{patient} has \", prediction)\n",
    "\n",
    "# Preprocess the input text\n",
    "def preprocess_text(text):\n",
    "    tokens = nltk.word_tokenize(text)\n",
    "    tokens = [token for token in tokens if token.lower() not in stopwords]\n",
    "    return tokens\n",
    "\n",
    "# Vectorize the preprocessed text using Word2Vec model\n",
    "def vectorize_text(tokens):\n",
    "    vector = []\n",
    "    for token in tokens:\n",
    "        if token in word2vec_model.wv:\n",
    "            vector.append(word2vec_model.wv[token])\n",
    "    if vector:\n",
    "        return sum(vector) / len(vector)\n",
    "    else:\n",
    "        return []\n",
    "\n",
    "# Train MLP model\n",
    "X = df['STOPWORDS_REMOVED_EXAMINATIONS'].apply(vectorize_text).tolist()\n",
    "model = MLPClassifier(hidden_layer_sizes=(100,), activation='relu', random_state=42)\n",
    "model.fit(X, target)\n",
    "\n",
    "# Start the PyWebIO server\n",
    "if __name__ == '__main__':\n",
    "    start_server(predict_diagnosis, port=8080)"
   ]
  },
  {
   "cell_type": "code",
   "execution_count": 2,
   "id": "baf54ee4",
   "metadata": {},
   "outputs": [
    {
     "name": "stdout",
     "output_type": "stream",
     "text": [
      "Accuracy: 1.0\n",
      "Precision: 1.0\n",
      "Recall: 1.0\n"
     ]
    }
   ],
   "source": [
    "from sklearn.neural_network import MLPClassifier\n",
    "from sklearn.metrics import accuracy_score, precision_score, recall_score\n",
    "from sklearn.model_selection import train_test_split\n",
    "from sklearn.datasets import load_iris\n",
    "\n",
    "# Load the dataset\n",
    "iris = load_iris()\n",
    "X = iris.data\n",
    "y = iris.target\n",
    "\n",
    "# Split the data into training and test sets\n",
    "X_train, X_test, y_train, y_test = train_test_split(X, y, test_size=0.2, random_state=42)\n",
    "\n",
    "# Initialize and train the MLP model\n",
    "mlp = MLPClassifier(hidden_layer_sizes=(100, 100), max_iter=1000, random_state=42)\n",
    "mlp.fit(X_train, y_train)\n",
    "\n",
    "# Make predictions on the test set\n",
    "y_pred = mlp.predict(X_test)\n",
    "\n",
    "# Calculate accuracy\n",
    "accuracy = accuracy_score(y_test, y_pred)\n",
    "print(\"Accuracy:\", accuracy)\n",
    "\n",
    "# Calculate precision\n",
    "precision = precision_score(y_test, y_pred, average='macro')\n",
    "print(\"Precision:\", precision)\n",
    "\n",
    "# Calculate recall\n",
    "recall = recall_score(y_test, y_pred, average='macro')\n",
    "print(\"Recall:\", recall)"
   ]
  },
  {
   "cell_type": "code",
   "execution_count": 3,
   "id": "61182c61",
   "metadata": {},
   "outputs": [
    {
     "name": "stderr",
     "output_type": "stream",
     "text": [
      "[nltk_data] Downloading package brown to\n",
      "[nltk_data]     C:\\Users\\ASUS\\AppData\\Roaming\\nltk_data...\n",
      "[nltk_data]   Package brown is already up-to-date!\n"
     ]
    },
    {
     "name": "stdout",
     "output_type": "stream",
     "text": [
      "Enter the sentence to be tagged ? I want to be excellent\n",
      "[('I', 'PPSS'), ('want', 'VB'), ('to', 'TO'), ('be', 'BE'), ('excellent', 'JJ')]\n"
     ]
    }
   ],
   "source": [
    "import nltk\n",
    "import nltk\n",
    "nltk.download('brown')\n",
    "from nltk.corpus import brown\n",
    "def train_hmm_tagger () :\n",
    " tagged_sentence = brown.tagged_sents(categories = 'news')\n",
    " size = int(len(tagged_sentence)*0.9)\n",
    " trained_sents = tagged_sentence[:size]\n",
    " test_sents = tagged_sentence[size:]\n",
    " symbols = set([word for sentence in tagged_sentence for word,_ in sentence ])\n",
    " states = set([tag for sentence in tagged_sentence for _,tag in sentence])\n",
    " trainer = nltk.tag.hmm.HiddenMarkovModelTrainer(states = states , symbols = symbols)\n",
    " hmm_tagger = trainer.train_supervised(tagged_sentence)\n",
    " return hmm_tagger\n",
    "\n",
    "def pos_tag_sentence(sentence, hmm_tagger):\n",
    " tokens = nltk.word_tokenize(sentence)\n",
    " tagged_tokens = hmm_tagger.tag(tokens)\n",
    " return tagged_tokens\n",
    "hmm_tagger = train_hmm_tagger()\n",
    "sentence = input(\"Enter the sentence to be tagged ? \")\n",
    "tagged = pos_tag_sentence(sentence, hmm_tagger)\n",
    "print(tagged)"
   ]
  },
  {
   "cell_type": "code",
   "execution_count": null,
   "id": "d9a45701",
   "metadata": {},
   "outputs": [],
   "source": []
  }
 ],
 "metadata": {
  "kernelspec": {
   "display_name": "Python 3 (ipykernel)",
   "language": "python",
   "name": "python3"
  },
  "language_info": {
   "codemirror_mode": {
    "name": "ipython",
    "version": 3
   },
   "file_extension": ".py",
   "mimetype": "text/x-python",
   "name": "python",
   "nbconvert_exporter": "python",
   "pygments_lexer": "ipython3",
   "version": "3.10.9"
  }
 },
 "nbformat": 4,
 "nbformat_minor": 5
}
